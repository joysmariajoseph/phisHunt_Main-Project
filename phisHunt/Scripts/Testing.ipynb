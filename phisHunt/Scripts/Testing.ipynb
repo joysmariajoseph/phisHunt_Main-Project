{
 "cells": [
  {
   "cell_type": "code",
   "execution_count": 3,
   "metadata": {},
   "outputs": [
    {
     "name": "stdout",
     "output_type": "stream",
     "text": [
      "https://www.google.co.in/search?q=gjgj\n",
      "\n",
      "['https://www.google.co.in/search?q=gjgj']\n",
      "['bad']\n"
     ]
    }
   ],
   "source": [
    "#%load Training\n",
    "import Training\n",
    "vectorizer, lgs  = Training.TL()\n",
    "\n",
    "file = open('C:/UserDB/clienturl.txt','r',encoding='UTF-16')\n",
    "url_from_client= file.read()\n",
    "print(url_from_client)\n",
    "\n",
    "url_from_client = url_from_client[:-1]\n",
    "X_predict = [url_from_client]\n",
    "print(X_predict)\n",
    "\n",
    "X_predict = vectorizer.transform(X_predict)\n",
    "\n",
    "y_Predict = lgs.predict(X_predict)\n",
    "\n",
    "print(y_Predict)\t#printing predicted values\n"
   ]
  },
  {
   "cell_type": "code",
   "execution_count": null,
   "metadata": {},
   "outputs": [],
   "source": []
  },
  {
   "cell_type": "code",
   "execution_count": null,
   "metadata": {},
   "outputs": [],
   "source": []
  }
 ],
 "metadata": {
  "kernelspec": {
   "display_name": "Python 3",
   "language": "python",
   "name": "python3"
  },
  "language_info": {
   "codemirror_mode": {
    "name": "ipython",
    "version": 3
   },
   "file_extension": ".py",
   "mimetype": "text/x-python",
   "name": "python",
   "nbconvert_exporter": "python",
   "pygments_lexer": "ipython3",
   "version": "3.6.4"
  }
 },
 "nbformat": 4,
 "nbformat_minor": 2
}
