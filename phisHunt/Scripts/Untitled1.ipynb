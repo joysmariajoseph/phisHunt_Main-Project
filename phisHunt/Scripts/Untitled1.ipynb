{
 "cells": [
  {
   "cell_type": "code",
   "execution_count": 1,
   "metadata": {},
   "outputs": [],
   "source": [
    "from functools import wraps\n",
    "from flask import Flask\n",
    "from flask import request, Response\n",
    "from subprocess import call\n",
    "from flask import render_template\n",
    "\n",
    "from sklearn.feature_extraction.text import CountVectorizer\n",
    "from sklearn.model_selection import train_test_split\n",
    "import pandas as pd\n",
    "import numpy as np\n",
    "import random\n",
    "from sklearn.feature_extraction.text import TfidfVectorizer\n",
    "import sys\n",
    "import os\n",
    "from sklearn.linear_model import LogisticRegression\n",
    "\n",
    "import math\n",
    "from collections import Counter\n",
    "\n",
    "app = Flask(__name__)\n"
   ]
  },
  {
   "cell_type": "code",
   "execution_count": 2,
   "metadata": {},
   "outputs": [],
   "source": [
    "def entropy(s):\n",
    "\tp, lns = Counter(s), float(len(s))\n",
    "\treturn -sum( count/lns * math.log(count/lns, 2) for count in p.values())"
   ]
  },
  {
   "cell_type": "code",
   "execution_count": 3,
   "metadata": {},
   "outputs": [],
   "source": [
    "def getTokens(input):\n",
    "\ttokensBySlash = str(input.encode('utf-8')).split('/')\t#get tokens after splitting by slash\n",
    "\tallTokens = []\n",
    "\tfor i in tokensBySlash:\n",
    "\t\ttokens = str(i).split('-')\t#get tokens after splitting by dash\n",
    "\t\ttokensByDot = []\n",
    "\t\tfor j in range(0,len(tokens)):\n",
    "\t\t\ttempTokens = str(tokens[j]).split('.')\t#get tokens after splitting by dot\n",
    "\t\t\ttokensByDot = tokensByDot + tempTokens\n",
    "\t\tallTokens = allTokens + tokens + tokensByDot\n",
    "\tallTokens = list(set(allTokens))\t#remove redundant tokens\n",
    "\tif 'com' in allTokens:\n",
    "\t\tallTokens.remove('com')\t#removing .com since it occurs a lot of times and it should not be included in our features\n",
    "\treturn allTokens\n"
   ]
  },
  {
   "cell_type": "code",
   "execution_count": 4,
   "metadata": {},
   "outputs": [],
   "source": [
    "def TL():\n",
    "\tallurls = './data/data.csv'\t#path to our all urls file\n",
    "\tallurlscsv = pd.read_csv(allurls,',',error_bad_lines=False)\t#reading file\n",
    "\tallurlsdata = pd.DataFrame(allurlscsv)\t#converting to a dataframe\n",
    "\n",
    "\tallurlsdata = np.array(allurlsdata)\t#converting it into an array\n",
    "\trandom.shuffle(allurlsdata)\t#shuffling\n",
    "\n",
    "\ty = [d[1] for d in allurlsdata]\t#all labels \n",
    "\tcorpus = [d[0] for d in allurlsdata]\t#all urls corresponding to a label (either good or bad)\n",
    "\tvectorizer = TfidfVectorizer(tokenizer=getTokens)\t#get a vector for each url but use our customized tokenizer\n",
    "\tX = vectorizer.fit_transform(corpus)\t#get the X vector\n",
    "\n",
    "\tX_train, X_test, y_train, y_test = train_test_split(X, y, test_size=0.2, random_state=42)\t#split into training and testing set 80/20 ratio\n",
    "\n",
    "\tlgs = LogisticRegression()\t#using logistic regression\n",
    "\tlgs.fit(X_train, y_train)\n",
    "\tprint(lgs.score(X_test, y_test))\t#pring the score. It comes out to be 98%\n",
    "\treturn vectorizer, lgs\n"
   ]
  },
  {
   "cell_type": "code",
   "execution_count": 5,
   "metadata": {},
   "outputs": [
    {
     "name": "stdout",
     "output_type": "stream",
     "text": [
      "0.9836133804240543\n",
      "chrome://newtab/\n",
      "\n",
      "['chrome://newtab/\\n']\n",
      "['bad']\n"
     ]
    }
   ],
   "source": [
    "vectorizer, lgs  = TL()\n",
    "\n",
    "#file = open('C:/UserDB/clienturl.txt','r',encoding='UTF-16')\n",
    "#url_from_client= file.read()\n",
    "#print(url_from_client)\n",
    "\n",
    "X_predict = [url_from_client]\n",
    "#print(X_predict)\n",
    "\n",
    "X_predict = vectorizer.transform(X_predict)\n",
    "\n",
    "y_Predict = lgs.predict(X_predict)\n",
    "\n",
    "print(y_Predict)\t#printing predicted values\n",
    "\n",
    "\n"
   ]
  },
  {
   "cell_type": "code",
   "execution_count": null,
   "metadata": {},
   "outputs": [],
   "source": []
  },
  {
   "cell_type": "code",
   "execution_count": null,
   "metadata": {},
   "outputs": [],
   "source": []
  },
  {
   "cell_type": "code",
   "execution_count": null,
   "metadata": {},
   "outputs": [],
   "source": []
  },
  {
   "cell_type": "code",
   "execution_count": null,
   "metadata": {},
   "outputs": [],
   "source": []
  }
 ],
 "metadata": {
  "kernelspec": {
   "display_name": "Python 3",
   "language": "python",
   "name": "python3"
  },
  "language_info": {
   "codemirror_mode": {
    "name": "ipython",
    "version": 3
   },
   "file_extension": ".py",
   "mimetype": "text/x-python",
   "name": "python",
   "nbconvert_exporter": "python",
   "pygments_lexer": "ipython3",
   "version": "3.6.4"
  }
 },
 "nbformat": 4,
 "nbformat_minor": 2
}
